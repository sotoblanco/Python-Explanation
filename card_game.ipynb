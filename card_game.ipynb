{
 "cells": [
  {
   "cell_type": "code",
   "execution_count": 1,
   "metadata": {},
   "outputs": [],
   "source": [
    "import random\n",
    "suits = ('Hearts', 'Diamonds', 'Spades', 'Clubs')\n",
    "ranks = ('Two', 'Three', 'Four', 'Five', 'Six', 'Seven', 'Eight', 'Nine', 'Ten', 'Jack', 'Queen', 'King', 'Ace')\n",
    "values = {'Two':2, 'Three':3, 'Four':4, 'Five':5, 'Six':6, 'Seven':7, 'Eight':8, \n",
    "            'Nine':9, 'Ten':10, 'Jack':11, 'Queen':12, 'King':13, 'Ace':14}"
   ]
  },
  {
   "cell_type": "code",
   "execution_count": null,
   "metadata": {},
   "outputs": [],
   "source": [
    "class Card():\n",
    "\n",
    "    def __init__(self, suit, rank) -> None:\n",
    "        self.suit = suit\n",
    "        self.rank = rank\n",
    "        self.value = values[rank]\n",
    "\n",
    "    def __str__(self) -> str:\n",
    "        return self.rank + \" of \" + self.suit\n",
    "\n",
    "\n",
    "two_hearts = Card(\"Hearts\", \"Two\")\n",
    "\n",
    "print(two_hearts)\n",
    "\n",
    "three_of_clubs = Card(\"Clubs\", \"Three\")\n",
    "\n",
    "two_hearts.suit\n",
    "two_hearts.rank\n",
    "\n",
    "values[two_hearts.rank]\n",
    "\n",
    "print(two_hearts.value < three_of_clubs.value)"
   ]
  }
 ],
 "metadata": {
  "interpreter": {
   "hash": "018856fe8cea192e9aca0ec6d319ce5aaed29515e0139f12e4cf38054a146782"
  },
  "kernelspec": {
   "display_name": "Python 3.8.8 ('py38')",
   "language": "python",
   "name": "python3"
  },
  "language_info": {
   "codemirror_mode": {
    "name": "ipython",
    "version": 3
   },
   "file_extension": ".py",
   "mimetype": "text/x-python",
   "name": "python",
   "nbconvert_exporter": "python",
   "pygments_lexer": "ipython3",
   "version": "3.8.8"
  },
  "orig_nbformat": 4
 },
 "nbformat": 4,
 "nbformat_minor": 2
}
